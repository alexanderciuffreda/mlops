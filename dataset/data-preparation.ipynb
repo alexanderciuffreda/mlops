{
 "cells": [
  {
   "cell_type": "markdown",
   "metadata": {},
   "source": [
    "Generate remaining cycle"
   ]
  },
  {
   "cell_type": "code",
   "execution_count": 2,
   "metadata": {},
   "outputs": [],
   "source": [
    "import pandas as pd\n",
    "import numpy as np"
   ]
  },
  {
   "cell_type": "code",
   "execution_count": 3,
   "metadata": {},
   "outputs": [],
   "source": [
    "columns=[\"id\",\"cycle\",\"op1\",\"op2\",\"op3\",\"sensor1\",\"sensor2\",\"sensor3\",\"sensor4\",\"sensor5\",\"sensor6\",\"sensor7\",\"sensor8\",\n",
    "         \"sensor9\",\"sensor10\",\"sensor11\",\"sensor12\",\"sensor13\",\"sensor14\",\"sensor15\",\"sensor16\",\"sensor17\",\"sensor18\",\"sensor19\"\n",
    "         ,\"sensor20\",\"sensor21\",\"sensor22\",\"sensor23\"]"
   ]
  },
  {
   "cell_type": "markdown",
   "metadata": {},
   "source": [
    "read in data"
   ]
  },
  {
   "cell_type": "code",
   "execution_count": 11,
   "metadata": {},
   "outputs": [],
   "source": [
    "train=pd.read_csv(\"train_FD001.txt\",sep=\" \",names=columns)\n",
    "test=pd.read_csv(\"test_FD001.txt\",sep=\" \",names=columns)\n",
    "test_results=pd.read_csv(\"RUL_FD001.txt\",sep=\" \",header=None)"
   ]
  },
  {
   "cell_type": "markdown",
   "metadata": {},
   "source": [
    "generate columns for RUL, cycle, rul failed, remaining cycle"
   ]
  },
  {
   "cell_type": "code",
   "execution_count": 12,
   "metadata": {},
   "outputs": [],
   "source": [
    "test_results.columns=[\"rul\", \"null\"]\n",
    "\n",
    "test_results['id']=test_results.index+1\n",
    "test_results.drop([\"null\"],axis=1,inplace=True)\n",
    "rul = pd.DataFrame(test.groupby('id')['cycle'].max()).reset_index()\n",
    "rul.columns = ['id', 'max']\n",
    "test_results['rul_failed']=test_results['rul']+rul['max']\n",
    "test_results.drop([\"rul\"],axis=1,inplace=True)\n",
    "test=test.merge(test_results,on=['id'],how='left')\n",
    "test[\"remaining_cycle\"]=test[\"rul_failed\"]-test[\"cycle\"]\n",
    "\n"
   ]
  },
  {
   "cell_type": "markdown",
   "metadata": {},
   "source": [
    "drop null values and rul failed for test set"
   ]
  },
  {
   "cell_type": "code",
   "execution_count": 14,
   "metadata": {},
   "outputs": [],
   "source": [
    "df_train=train.drop([\"sensor22\",\"sensor23\"],axis=1)\n",
    "df_test=test.drop([\"sensor22\",\"sensor23\"],axis=1)\n",
    "df_test.drop([\"rul_failed\"],axis=1,inplace=True)\n",
    "df_train['remaining_cycle'] = df_train.groupby(['id'])['cycle'].transform(max)-df_train['cycle']"
   ]
  },
  {
   "cell_type": "markdown",
   "metadata": {},
   "source": [
    "display columns"
   ]
  },
  {
   "cell_type": "code",
   "execution_count": 15,
   "metadata": {},
   "outputs": [
    {
     "data": {
      "text/html": [
       "<div>\n",
       "<style scoped>\n",
       "    .dataframe tbody tr th:only-of-type {\n",
       "        vertical-align: middle;\n",
       "    }\n",
       "\n",
       "    .dataframe tbody tr th {\n",
       "        vertical-align: top;\n",
       "    }\n",
       "\n",
       "    .dataframe thead th {\n",
       "        text-align: right;\n",
       "    }\n",
       "</style>\n",
       "<table border=\"1\" class=\"dataframe\">\n",
       "  <thead>\n",
       "    <tr style=\"text-align: right;\">\n",
       "      <th></th>\n",
       "      <th>id</th>\n",
       "      <th>cycle</th>\n",
       "      <th>op1</th>\n",
       "      <th>op2</th>\n",
       "      <th>op3</th>\n",
       "      <th>sensor1</th>\n",
       "      <th>sensor2</th>\n",
       "      <th>sensor3</th>\n",
       "      <th>sensor4</th>\n",
       "      <th>sensor5</th>\n",
       "      <th>...</th>\n",
       "      <th>sensor16</th>\n",
       "      <th>sensor17</th>\n",
       "      <th>sensor18</th>\n",
       "      <th>sensor19</th>\n",
       "      <th>sensor20</th>\n",
       "      <th>sensor21</th>\n",
       "      <th>sensor22</th>\n",
       "      <th>sensor23</th>\n",
       "      <th>rul_failed</th>\n",
       "      <th>remaining_cycle</th>\n",
       "    </tr>\n",
       "  </thead>\n",
       "  <tbody>\n",
       "    <tr>\n",
       "      <th>0</th>\n",
       "      <td>1</td>\n",
       "      <td>1</td>\n",
       "      <td>0.0023</td>\n",
       "      <td>0.0003</td>\n",
       "      <td>100.0</td>\n",
       "      <td>518.67</td>\n",
       "      <td>643.02</td>\n",
       "      <td>1585.29</td>\n",
       "      <td>1398.21</td>\n",
       "      <td>14.62</td>\n",
       "      <td>...</td>\n",
       "      <td>0.03</td>\n",
       "      <td>392</td>\n",
       "      <td>2388</td>\n",
       "      <td>100.0</td>\n",
       "      <td>38.86</td>\n",
       "      <td>23.3735</td>\n",
       "      <td>NaN</td>\n",
       "      <td>NaN</td>\n",
       "      <td>143</td>\n",
       "      <td>142</td>\n",
       "    </tr>\n",
       "    <tr>\n",
       "      <th>1</th>\n",
       "      <td>1</td>\n",
       "      <td>2</td>\n",
       "      <td>-0.0027</td>\n",
       "      <td>-0.0003</td>\n",
       "      <td>100.0</td>\n",
       "      <td>518.67</td>\n",
       "      <td>641.71</td>\n",
       "      <td>1588.45</td>\n",
       "      <td>1395.42</td>\n",
       "      <td>14.62</td>\n",
       "      <td>...</td>\n",
       "      <td>0.03</td>\n",
       "      <td>393</td>\n",
       "      <td>2388</td>\n",
       "      <td>100.0</td>\n",
       "      <td>39.02</td>\n",
       "      <td>23.3916</td>\n",
       "      <td>NaN</td>\n",
       "      <td>NaN</td>\n",
       "      <td>143</td>\n",
       "      <td>141</td>\n",
       "    </tr>\n",
       "    <tr>\n",
       "      <th>2</th>\n",
       "      <td>1</td>\n",
       "      <td>3</td>\n",
       "      <td>0.0003</td>\n",
       "      <td>0.0001</td>\n",
       "      <td>100.0</td>\n",
       "      <td>518.67</td>\n",
       "      <td>642.46</td>\n",
       "      <td>1586.94</td>\n",
       "      <td>1401.34</td>\n",
       "      <td>14.62</td>\n",
       "      <td>...</td>\n",
       "      <td>0.03</td>\n",
       "      <td>393</td>\n",
       "      <td>2388</td>\n",
       "      <td>100.0</td>\n",
       "      <td>39.08</td>\n",
       "      <td>23.4166</td>\n",
       "      <td>NaN</td>\n",
       "      <td>NaN</td>\n",
       "      <td>143</td>\n",
       "      <td>140</td>\n",
       "    </tr>\n",
       "    <tr>\n",
       "      <th>3</th>\n",
       "      <td>1</td>\n",
       "      <td>4</td>\n",
       "      <td>0.0042</td>\n",
       "      <td>0.0000</td>\n",
       "      <td>100.0</td>\n",
       "      <td>518.67</td>\n",
       "      <td>642.44</td>\n",
       "      <td>1584.12</td>\n",
       "      <td>1406.42</td>\n",
       "      <td>14.62</td>\n",
       "      <td>...</td>\n",
       "      <td>0.03</td>\n",
       "      <td>391</td>\n",
       "      <td>2388</td>\n",
       "      <td>100.0</td>\n",
       "      <td>39.00</td>\n",
       "      <td>23.3737</td>\n",
       "      <td>NaN</td>\n",
       "      <td>NaN</td>\n",
       "      <td>143</td>\n",
       "      <td>139</td>\n",
       "    </tr>\n",
       "    <tr>\n",
       "      <th>4</th>\n",
       "      <td>1</td>\n",
       "      <td>5</td>\n",
       "      <td>0.0014</td>\n",
       "      <td>0.0000</td>\n",
       "      <td>100.0</td>\n",
       "      <td>518.67</td>\n",
       "      <td>642.51</td>\n",
       "      <td>1587.19</td>\n",
       "      <td>1401.92</td>\n",
       "      <td>14.62</td>\n",
       "      <td>...</td>\n",
       "      <td>0.03</td>\n",
       "      <td>390</td>\n",
       "      <td>2388</td>\n",
       "      <td>100.0</td>\n",
       "      <td>38.99</td>\n",
       "      <td>23.4130</td>\n",
       "      <td>NaN</td>\n",
       "      <td>NaN</td>\n",
       "      <td>143</td>\n",
       "      <td>138</td>\n",
       "    </tr>\n",
       "  </tbody>\n",
       "</table>\n",
       "<p>5 rows × 30 columns</p>\n",
       "</div>"
      ],
      "text/plain": [
       "   id  cycle     op1     op2    op3  sensor1  sensor2  sensor3  sensor4  \\\n",
       "0   1      1  0.0023  0.0003  100.0   518.67   643.02  1585.29  1398.21   \n",
       "1   1      2 -0.0027 -0.0003  100.0   518.67   641.71  1588.45  1395.42   \n",
       "2   1      3  0.0003  0.0001  100.0   518.67   642.46  1586.94  1401.34   \n",
       "3   1      4  0.0042  0.0000  100.0   518.67   642.44  1584.12  1406.42   \n",
       "4   1      5  0.0014  0.0000  100.0   518.67   642.51  1587.19  1401.92   \n",
       "\n",
       "   sensor5  ...  sensor16  sensor17  sensor18  sensor19  sensor20  sensor21  \\\n",
       "0    14.62  ...      0.03       392      2388     100.0     38.86   23.3735   \n",
       "1    14.62  ...      0.03       393      2388     100.0     39.02   23.3916   \n",
       "2    14.62  ...      0.03       393      2388     100.0     39.08   23.4166   \n",
       "3    14.62  ...      0.03       391      2388     100.0     39.00   23.3737   \n",
       "4    14.62  ...      0.03       390      2388     100.0     38.99   23.4130   \n",
       "\n",
       "   sensor22  sensor23  rul_failed  remaining_cycle  \n",
       "0       NaN       NaN         143              142  \n",
       "1       NaN       NaN         143              141  \n",
       "2       NaN       NaN         143              140  \n",
       "3       NaN       NaN         143              139  \n",
       "4       NaN       NaN         143              138  \n",
       "\n",
       "[5 rows x 30 columns]"
      ]
     },
     "execution_count": 15,
     "metadata": {},
     "output_type": "execute_result"
    }
   ],
   "source": [
    "test.head()\n"
   ]
  },
  {
   "cell_type": "markdown",
   "metadata": {},
   "source": [
    "generate label"
   ]
  },
  {
   "cell_type": "code",
   "execution_count": 16,
   "metadata": {},
   "outputs": [],
   "source": [
    "# set CYCLES variable to predict if the engine will fail within the next n cycles\n",
    "CYCLES = 20 # predict if the engine will fail in the next 20 cycles\n",
    "df_train['label'] = df_train['remaining_cycle'].apply(lambda x: 1 if x <= CYCLES else 0)\n",
    "df_test['label'] = df_test['remaining_cycle'].apply(lambda x: 1 if x <= CYCLES else 0)"
   ]
  },
  {
   "cell_type": "code",
   "execution_count": 25,
   "metadata": {},
   "outputs": [],
   "source": [
    "df_train[\"sensor17\"] = pd.to_numeric(df_train[\"sensor17\"], downcast=\"float\")\n",
    "df_test[\"sensor17\"] = pd.to_numeric(df_test[\"sensor17\"], downcast=\"float\")\n",
    "df_train[\"sensor18\"] = pd.to_numeric(df_train[\"sensor18\"], downcast=\"float\")\n",
    "df_test[\"sensor18\"] = pd.to_numeric(df_test[\"sensor18\"], downcast=\"float\")\n",
    "df_train[\"sensor19\"] = pd.to_numeric(df_train[\"sensor19\"], downcast=\"float\")\n",
    "df_test[\"sensor19\"] = pd.to_numeric(df_test[\"sensor19\"], downcast=\"float\")\n"
   ]
  },
  {
   "cell_type": "code",
   "execution_count": 23,
   "metadata": {},
   "outputs": [
    {
     "data": {
      "text/plain": [
       "id                   int64\n",
       "cycle                int64\n",
       "op1                float64\n",
       "op2                float64\n",
       "op3                float64\n",
       "sensor1            float64\n",
       "sensor2            float64\n",
       "sensor3            float64\n",
       "sensor4            float64\n",
       "sensor5            float64\n",
       "sensor6            float64\n",
       "sensor7            float64\n",
       "sensor8            float64\n",
       "sensor9            float64\n",
       "sensor10           float64\n",
       "sensor11           float64\n",
       "sensor12           float64\n",
       "sensor13           float64\n",
       "sensor14           float64\n",
       "sensor15           float64\n",
       "sensor16           float64\n",
       "sensor17           float32\n",
       "sensor18           float32\n",
       "sensor19           float32\n",
       "sensor20           float64\n",
       "sensor21           float64\n",
       "remaining_cycle      int64\n",
       "label                int64\n",
       "dtype: object"
      ]
     },
     "execution_count": 23,
     "metadata": {},
     "output_type": "execute_result"
    }
   ],
   "source": [
    "df_train.dtypes"
   ]
  },
  {
   "cell_type": "markdown",
   "metadata": {},
   "source": [
    "save the file"
   ]
  },
  {
   "cell_type": "code",
   "execution_count": 26,
   "metadata": {},
   "outputs": [],
   "source": [
    "#parquet\n",
    "df_train.to_parquet('engine-train.parquet')\n",
    "df_test.to_parquet('engine-test.parquet')\n",
    "\n",
    "#csv\n",
    "df_train.to_csv('engine-train.csv')\n",
    "df_test.to_csv('engine-test.csv')"
   ]
  }
 ],
 "metadata": {
  "interpreter": {
   "hash": "93c60d43ab9c456a5156912bdf0fd87b359a69a79e1b2872312e808356bafea1"
  },
  "kernelspec": {
   "display_name": "Python 3.8.12 64-bit ('airflow': conda)",
   "name": "python3"
  },
  "language_info": {
   "codemirror_mode": {
    "name": "ipython",
    "version": 3
   },
   "file_extension": ".py",
   "mimetype": "text/x-python",
   "name": "python",
   "nbconvert_exporter": "python",
   "pygments_lexer": "ipython3",
   "version": "3.8.12"
  },
  "orig_nbformat": 4
 },
 "nbformat": 4,
 "nbformat_minor": 2
}
