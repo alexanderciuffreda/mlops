{
 "cells": [
  {
   "cell_type": "code",
   "execution_count": 27,
   "metadata": {},
   "outputs": [],
   "source": [
    "import pyspark\n",
    "from delta import *\n",
    "from deltalake import DeltaTable\n",
    "\n",
    "builder = pyspark.sql.SparkSession.builder.appName(\"MyApp\") \\\n",
    "    .config(\"spark.sql.extensions\", \"io.delta.sql.DeltaSparkSessionExtension\") \\\n",
    "    .config(\"spark.sql.catalog.spark_catalog\", \"org.apache.spark.sql.delta.catalog.DeltaCatalog\")\n",
    "\n",
    "spark = configure_spark_with_delta_pip(builder).getOrCreate()"
   ]
  },
  {
   "cell_type": "code",
   "execution_count": 17,
   "metadata": {},
   "outputs": [
    {
     "name": "stderr",
     "output_type": "stream",
     "text": [
      "22/01/30 13:57:31 ERROR OptimisticTransaction: [tableId=b05fdfed,txnId=7191fb01] Change in the table id detected in txn. Table id for txn on table at file:/Users/alexander/mlops/dataset/spark-warehouse/test_data was b05fdfed-171e-487d-b17f-27bd00c611ab when the txn was created and is now changed to 62bca6fc-c0fc-4fcf-9441-fa801d073875.\n",
      "22/01/30 13:57:34 ERROR DeltaLog: Change in the table id detected while updating snapshot. \n",
      "Previous snapshot = Snapshot(path=file:/Users/alexander/mlops/dataset/spark-warehouse/test_data/_delta_log, version=1, metadata=Metadata(b05fdfed-171e-487d-b17f-27bd00c611ab,null,null,Format(parquet,Map()),{\"type\":\"struct\",\"fields\":[{\"name\":\"id\",\"type\":\"integer\",\"nullable\":true,\"metadata\":{}},{\"name\":\"cycle\",\"type\":\"integer\",\"nullable\":true,\"metadata\":{}},{\"name\":\"op1\",\"type\":\"integer\",\"nullable\":true,\"metadata\":{}},{\"name\":\"op2\",\"type\":\"integer\",\"nullable\":true,\"metadata\":{}},{\"name\":\"op3\",\"type\":\"integer\",\"nullable\":true,\"metadata\":{}},{\"name\":\"sensor1\",\"type\":\"integer\",\"nullable\":true,\"metadata\":{}},{\"name\":\"sensor2\",\"type\":\"integer\",\"nullable\":true,\"metadata\":{}},{\"name\":\"sensor3\",\"type\":\"integer\",\"nullable\":true,\"metadata\":{}},{\"name\":\"sensor4\",\"type\":\"integer\",\"nullable\":true,\"metadata\":{}},{\"name\":\"sensor5\",\"type\":\"integer\",\"nullable\":true,\"metadata\":{}},{\"name\":\"sensor6\",\"type\":\"integer\",\"nullable\":true,\"metadata\":{}},{\"name\":\"sensor7\",\"type\":\"integer\",\"nullable\":true,\"metadata\":{}},{\"name\":\"sensor8\",\"type\":\"integer\",\"nullable\":true,\"metadata\":{}},{\"name\":\"sensor9\",\"type\":\"integer\",\"nullable\":true,\"metadata\":{}},{\"name\":\"sensor10\",\"type\":\"integer\",\"nullable\":true,\"metadata\":{}},{\"name\":\"sensor11\",\"type\":\"integer\",\"nullable\":true,\"metadata\":{}},{\"name\":\"sensor12\",\"type\":\"integer\",\"nullable\":true,\"metadata\":{}},{\"name\":\"sensor13\",\"type\":\"integer\",\"nullable\":true,\"metadata\":{}},{\"name\":\"sensor14\",\"type\":\"integer\",\"nullable\":true,\"metadata\":{}},{\"name\":\"sensor15\",\"type\":\"integer\",\"nullable\":true,\"metadata\":{}},{\"name\":\"sensor16\",\"type\":\"integer\",\"nullable\":true,\"metadata\":{}},{\"name\":\"sensor17\",\"type\":\"integer\",\"nullable\":true,\"metadata\":{}},{\"name\":\"sensor18\",\"type\":\"integer\",\"nullable\":true,\"metadata\":{}},{\"name\":\"sensor19\",\"type\":\"integer\",\"nullable\":true,\"metadata\":{}},{\"name\":\"sensor20\",\"type\":\"integer\",\"nullable\":true,\"metadata\":{}},{\"name\":\"sensor21\",\"type\":\"integer\",\"nullable\":true,\"metadata\":{}},{\"name\":\"sensor22\",\"type\":\"integer\",\"nullable\":true,\"metadata\":{}},{\"name\":\"sensor23\",\"type\":\"integer\",\"nullable\":true,\"metadata\":{}}]},List(),Map(),Some(1643546898234)), logSegment=LogSegment(file:/Users/alexander/mlops/dataset/spark-warehouse/test_data/_delta_log,1,WrappedArray(DeprecatedRawLocalFileStatus{path=file:/Users/alexander/mlops/dataset/spark-warehouse/test_data/_delta_log/00000000000000000000.json; isDirectory=false; length=2772; replication=1; blocksize=33554432; modification_time=1643546681183; access_time=1643546686000; owner=; group=; permission=rw-rw-rw-; isSymlink=false; hasAcl=false; isEncrypted=false; isErasureCoded=false}, DeprecatedRawLocalFileStatus{path=file:/Users/alexander/mlops/dataset/spark-warehouse/test_data/_delta_log/00000000000000000001.json; isDirectory=false; length=2789; replication=1; blocksize=33554432; modification_time=1643546899679; access_time=1643546899000; owner=; group=; permission=rw-rw-rw-; isSymlink=false; hasAcl=false; isEncrypted=false; isErasureCoded=false}),List(),None,1643546899679), checksumOpt=None)\n",
      "New snapshot = Snapshot(path=file:/Users/alexander/mlops/dataset/spark-warehouse/test_data/_delta_log, version=2, metadata=Metadata(62bca6fc-c0fc-4fcf-9441-fa801d073875,null,null,Format(parquet,Map()),{\"type\":\"struct\",\"fields\":[{\"name\":\"id\",\"type\":\"integer\",\"nullable\":true,\"metadata\":{}},{\"name\":\"cycle\",\"type\":\"integer\",\"nullable\":true,\"metadata\":{}},{\"name\":\"op1\",\"type\":\"integer\",\"nullable\":true,\"metadata\":{}},{\"name\":\"op2\",\"type\":\"integer\",\"nullable\":true,\"metadata\":{}},{\"name\":\"op3\",\"type\":\"integer\",\"nullable\":true,\"metadata\":{}},{\"name\":\"sensor1\",\"type\":\"integer\",\"nullable\":true,\"metadata\":{}},{\"name\":\"sensor2\",\"type\":\"integer\",\"nullable\":true,\"metadata\":{}},{\"name\":\"sensor3\",\"type\":\"integer\",\"nullable\":true,\"metadata\":{}},{\"name\":\"sensor4\",\"type\":\"integer\",\"nullable\":true,\"metadata\":{}},{\"name\":\"sensor5\",\"type\":\"integer\",\"nullable\":true,\"metadata\":{}},{\"name\":\"sensor6\",\"type\":\"integer\",\"nullable\":true,\"metadata\":{}},{\"name\":\"sensor7\",\"type\":\"integer\",\"nullable\":true,\"metadata\":{}},{\"name\":\"sensor8\",\"type\":\"integer\",\"nullable\":true,\"metadata\":{}},{\"name\":\"sensor9\",\"type\":\"integer\",\"nullable\":true,\"metadata\":{}},{\"name\":\"sensor10\",\"type\":\"integer\",\"nullable\":true,\"metadata\":{}},{\"name\":\"sensor11\",\"type\":\"integer\",\"nullable\":true,\"metadata\":{}},{\"name\":\"sensor12\",\"type\":\"integer\",\"nullable\":true,\"metadata\":{}},{\"name\":\"sensor13\",\"type\":\"integer\",\"nullable\":true,\"metadata\":{}},{\"name\":\"sensor14\",\"type\":\"integer\",\"nullable\":true,\"metadata\":{}},{\"name\":\"sensor15\",\"type\":\"integer\",\"nullable\":true,\"metadata\":{}},{\"name\":\"sensor16\",\"type\":\"integer\",\"nullable\":true,\"metadata\":{}},{\"name\":\"sensor17\",\"type\":\"integer\",\"nullable\":true,\"metadata\":{}},{\"name\":\"sensor18\",\"type\":\"integer\",\"nullable\":true,\"metadata\":{}},{\"name\":\"sensor19\",\"type\":\"integer\",\"nullable\":true,\"metadata\":{}},{\"name\":\"sensor20\",\"type\":\"integer\",\"nullable\":true,\"metadata\":{}},{\"name\":\"sensor21\",\"type\":\"integer\",\"nullable\":true,\"metadata\":{}},{\"name\":\"sensor22\",\"type\":\"integer\",\"nullable\":true,\"metadata\":{}},{\"name\":\"sensor23\",\"type\":\"integer\",\"nullable\":true,\"metadata\":{}}]},List(),Map(),Some(1643547450762)), logSegment=LogSegment(file:/Users/alexander/mlops/dataset/spark-warehouse/test_data/_delta_log,2,WrappedArray(DeprecatedRawLocalFileStatus{path=file:/Users/alexander/mlops/dataset/spark-warehouse/test_data/_delta_log/00000000000000000000.json; isDirectory=false; length=2772; replication=1; blocksize=33554432; modification_time=1643546681183; access_time=1643546686000; owner=; group=; permission=rw-rw-rw-; isSymlink=false; hasAcl=false; isEncrypted=false; isErasureCoded=false}, DeprecatedRawLocalFileStatus{path=file:/Users/alexander/mlops/dataset/spark-warehouse/test_data/_delta_log/00000000000000000001.json; isDirectory=false; length=2789; replication=1; blocksize=33554432; modification_time=1643546899679; access_time=1643546900000; owner=; group=; permission=rw-rw-rw-; isSymlink=false; hasAcl=false; isEncrypted=false; isErasureCoded=false}, DeprecatedRawLocalFileStatus{path=file:/Users/alexander/mlops/dataset/spark-warehouse/test_data/_delta_log/00000000000000000002.json; isDirectory=false; length=2789; replication=1; blocksize=33554432; modification_time=1643547451588; access_time=1643547451000; owner=; group=; permission=rw-rw-rw-; isSymlink=false; hasAcl=false; isEncrypted=false; isErasureCoded=false}),List(),None,1643547451588), checksumOpt=None).\n"
     ]
    }
   ],
   "source": [
    "dt = DeltaTable.createOrReplace(spark) \\\n",
    ".tableName(\"test_data\")\\\n",
    ".addColumn(\"id\",\"INT\") \\\n",
    ".addColumn(\"cycle\",\"INT\")\\\n",
    ".addColumn(\"op1\",\"INT\") \\\n",
    ".addColumn(\"op2\",\"INT\") \\\n",
    ".addColumn(\"op3\",\"INT\") \\\n",
    ".addColumn(\"sensor1\",\"INT\") \\\n",
    ".addColumn(\"sensor2\",\"INT\") \\\n",
    ".addColumn(\"sensor3\",\"INT\") \\\n",
    ".addColumn(\"sensor4\",\"INT\") \\\n",
    ".addColumn(\"sensor5\",\"INT\") \\\n",
    ".addColumn(\"sensor6\",\"INT\") \\\n",
    ".addColumn(\"sensor7\",\"INT\") \\\n",
    ".addColumn(\"sensor8\",\"INT\") \\\n",
    ".addColumn(\"sensor9\",\"INT\") \\\n",
    ".addColumn(\"sensor10\",\"INT\") \\\n",
    ".addColumn(\"sensor11\",\"INT\") \\\n",
    ".addColumn(\"sensor12\",\"INT\") \\\n",
    ".addColumn(\"sensor13\",\"INT\") \\\n",
    ".addColumn(\"sensor14\",\"INT\") \\\n",
    ".addColumn(\"sensor15\",\"INT\") \\\n",
    ".addColumn(\"sensor16\",\"INT\") \\\n",
    ".addColumn(\"sensor17\",\"INT\") \\\n",
    ".addColumn(\"sensor18\",\"INT\") \\\n",
    ".addColumn(\"sensor19\",\"INT\") \\\n",
    ".addColumn(\"sensor20\",\"INT\") \\\n",
    ".addColumn(\"sensor21\",\"INT\") \\\n",
    ".addColumn(\"sensor22\",\"INT\") \\\n",
    ".addColumn(\"sensor23\",\"INT\") \\\n",
    ".execute()"
   ]
  },
  {
   "cell_type": "code",
   "execution_count": 22,
   "metadata": {},
   "outputs": [
    {
     "ename": "AnalysisException",
     "evalue": "file:/Users/alexander/mlops/dataset/bronze already exists.",
     "output_type": "error",
     "traceback": [
      "\u001b[0;31m---------------------------------------------------------------------------\u001b[0m",
      "\u001b[0;31mAnalysisException\u001b[0m                         Traceback (most recent call last)",
      "Input \u001b[0;32mIn [22]\u001b[0m, in \u001b[0;36m<module>\u001b[0;34m\u001b[0m\n\u001b[1;32m      2\u001b[0m dt_df \u001b[38;5;241m=\u001b[39m dt\u001b[38;5;241m.\u001b[39mtoDF()\n\u001b[1;32m      3\u001b[0m \u001b[38;5;66;03m#safe on fs\u001b[39;00m\n\u001b[0;32m----> 4\u001b[0m \u001b[43mdt_df\u001b[49m\u001b[38;5;241;43m.\u001b[39;49m\u001b[43mwrite\u001b[49m\u001b[38;5;241;43m.\u001b[39;49m\u001b[43mformat\u001b[49m\u001b[43m(\u001b[49m\u001b[38;5;124;43m\"\u001b[39;49m\u001b[38;5;124;43mdelta\u001b[39;49m\u001b[38;5;124;43m\"\u001b[39;49m\u001b[43m)\u001b[49m\u001b[38;5;241;43m.\u001b[39;49m\u001b[43msave\u001b[49m\u001b[43m(\u001b[49m\u001b[38;5;124;43m\"\u001b[39;49m\u001b[38;5;124;43mbronze\u001b[39;49m\u001b[38;5;124;43m\"\u001b[39;49m\u001b[43m)\u001b[49m\n",
      "File \u001b[0;32m~/miniforge3/envs/spark/lib/python3.8/site-packages/pyspark/sql/readwriter.py:740\u001b[0m, in \u001b[0;36mDataFrameWriter.save\u001b[0;34m(self, path, format, mode, partitionBy, **options)\u001b[0m\n\u001b[1;32m    738\u001b[0m     \u001b[38;5;28mself\u001b[39m\u001b[38;5;241m.\u001b[39m_jwrite\u001b[38;5;241m.\u001b[39msave()\n\u001b[1;32m    739\u001b[0m \u001b[38;5;28;01melse\u001b[39;00m:\n\u001b[0;32m--> 740\u001b[0m     \u001b[38;5;28;43mself\u001b[39;49m\u001b[38;5;241;43m.\u001b[39;49m\u001b[43m_jwrite\u001b[49m\u001b[38;5;241;43m.\u001b[39;49m\u001b[43msave\u001b[49m\u001b[43m(\u001b[49m\u001b[43mpath\u001b[49m\u001b[43m)\u001b[49m\n",
      "File \u001b[0;32m~/miniforge3/envs/spark/lib/python3.8/site-packages/py4j/java_gateway.py:1321\u001b[0m, in \u001b[0;36mJavaMember.__call__\u001b[0;34m(self, *args)\u001b[0m\n\u001b[1;32m   1315\u001b[0m command \u001b[38;5;241m=\u001b[39m proto\u001b[38;5;241m.\u001b[39mCALL_COMMAND_NAME \u001b[38;5;241m+\u001b[39m\\\n\u001b[1;32m   1316\u001b[0m     \u001b[38;5;28mself\u001b[39m\u001b[38;5;241m.\u001b[39mcommand_header \u001b[38;5;241m+\u001b[39m\\\n\u001b[1;32m   1317\u001b[0m     args_command \u001b[38;5;241m+\u001b[39m\\\n\u001b[1;32m   1318\u001b[0m     proto\u001b[38;5;241m.\u001b[39mEND_COMMAND_PART\n\u001b[1;32m   1320\u001b[0m answer \u001b[38;5;241m=\u001b[39m \u001b[38;5;28mself\u001b[39m\u001b[38;5;241m.\u001b[39mgateway_client\u001b[38;5;241m.\u001b[39msend_command(command)\n\u001b[0;32m-> 1321\u001b[0m return_value \u001b[38;5;241m=\u001b[39m \u001b[43mget_return_value\u001b[49m\u001b[43m(\u001b[49m\n\u001b[1;32m   1322\u001b[0m \u001b[43m    \u001b[49m\u001b[43manswer\u001b[49m\u001b[43m,\u001b[49m\u001b[43m \u001b[49m\u001b[38;5;28;43mself\u001b[39;49m\u001b[38;5;241;43m.\u001b[39;49m\u001b[43mgateway_client\u001b[49m\u001b[43m,\u001b[49m\u001b[43m \u001b[49m\u001b[38;5;28;43mself\u001b[39;49m\u001b[38;5;241;43m.\u001b[39;49m\u001b[43mtarget_id\u001b[49m\u001b[43m,\u001b[49m\u001b[43m \u001b[49m\u001b[38;5;28;43mself\u001b[39;49m\u001b[38;5;241;43m.\u001b[39;49m\u001b[43mname\u001b[49m\u001b[43m)\u001b[49m\n\u001b[1;32m   1324\u001b[0m \u001b[38;5;28;01mfor\u001b[39;00m temp_arg \u001b[38;5;129;01min\u001b[39;00m temp_args:\n\u001b[1;32m   1325\u001b[0m     temp_arg\u001b[38;5;241m.\u001b[39m_detach()\n",
      "File \u001b[0;32m~/miniforge3/envs/spark/lib/python3.8/site-packages/pyspark/sql/utils.py:117\u001b[0m, in \u001b[0;36mcapture_sql_exception.<locals>.deco\u001b[0;34m(*a, **kw)\u001b[0m\n\u001b[1;32m    113\u001b[0m converted \u001b[38;5;241m=\u001b[39m convert_exception(e\u001b[38;5;241m.\u001b[39mjava_exception)\n\u001b[1;32m    114\u001b[0m \u001b[38;5;28;01mif\u001b[39;00m \u001b[38;5;129;01mnot\u001b[39;00m \u001b[38;5;28misinstance\u001b[39m(converted, UnknownException):\n\u001b[1;32m    115\u001b[0m     \u001b[38;5;66;03m# Hide where the exception came from that shows a non-Pythonic\u001b[39;00m\n\u001b[1;32m    116\u001b[0m     \u001b[38;5;66;03m# JVM exception message.\u001b[39;00m\n\u001b[0;32m--> 117\u001b[0m     \u001b[38;5;28;01mraise\u001b[39;00m converted \u001b[38;5;28;01mfrom\u001b[39;00m \u001b[38;5;28mNone\u001b[39m\n\u001b[1;32m    118\u001b[0m \u001b[38;5;28;01melse\u001b[39;00m:\n\u001b[1;32m    119\u001b[0m     \u001b[38;5;28;01mraise\u001b[39;00m\n",
      "\u001b[0;31mAnalysisException\u001b[0m: file:/Users/alexander/mlops/dataset/bronze already exists."
     ]
    }
   ],
   "source": [
    "# convert delta table to dataframe\n",
    "dt_df = dt.toDF()\n",
    "#safe on fs\n",
    "dt_df.write.format(\"delta\").save(\"bronze\")\n",
    "#dt.write.format(\"delta\").save(\"bronze\")"
   ]
  },
  {
   "cell_type": "code",
   "execution_count": 31,
   "metadata": {},
   "outputs": [],
   "source": [
    "\n",
    "dt_pd_df = DeltaTable(\"/Users/alexander/mlops/dataset/bronze\").to_pandas()"
   ]
  },
  {
   "cell_type": "code",
   "execution_count": 32,
   "metadata": {},
   "outputs": [
    {
     "data": {
      "text/html": [
       "<div>\n",
       "<style scoped>\n",
       "    .dataframe tbody tr th:only-of-type {\n",
       "        vertical-align: middle;\n",
       "    }\n",
       "\n",
       "    .dataframe tbody tr th {\n",
       "        vertical-align: top;\n",
       "    }\n",
       "\n",
       "    .dataframe thead th {\n",
       "        text-align: right;\n",
       "    }\n",
       "</style>\n",
       "<table border=\"1\" class=\"dataframe\">\n",
       "  <thead>\n",
       "    <tr style=\"text-align: right;\">\n",
       "      <th></th>\n",
       "      <th>id</th>\n",
       "      <th>cycle</th>\n",
       "      <th>op1</th>\n",
       "      <th>op2</th>\n",
       "      <th>op3</th>\n",
       "      <th>sensor1</th>\n",
       "      <th>sensor2</th>\n",
       "      <th>sensor3</th>\n",
       "      <th>sensor4</th>\n",
       "      <th>sensor5</th>\n",
       "      <th>...</th>\n",
       "      <th>sensor14</th>\n",
       "      <th>sensor15</th>\n",
       "      <th>sensor16</th>\n",
       "      <th>sensor17</th>\n",
       "      <th>sensor18</th>\n",
       "      <th>sensor19</th>\n",
       "      <th>sensor20</th>\n",
       "      <th>sensor21</th>\n",
       "      <th>sensor22</th>\n",
       "      <th>sensor23</th>\n",
       "    </tr>\n",
       "  </thead>\n",
       "  <tbody>\n",
       "  </tbody>\n",
       "</table>\n",
       "<p>0 rows × 28 columns</p>\n",
       "</div>"
      ],
      "text/plain": [
       "Empty DataFrame\n",
       "Columns: [id, cycle, op1, op2, op3, sensor1, sensor2, sensor3, sensor4, sensor5, sensor6, sensor7, sensor8, sensor9, sensor10, sensor11, sensor12, sensor13, sensor14, sensor15, sensor16, sensor17, sensor18, sensor19, sensor20, sensor21, sensor22, sensor23]\n",
       "Index: []\n",
       "\n",
       "[0 rows x 28 columns]"
      ]
     },
     "execution_count": 32,
     "metadata": {},
     "output_type": "execute_result"
    }
   ],
   "source": [
    "\n",
    "dt_pd_df"
   ]
  },
  {
   "cell_type": "code",
   "execution_count": 28,
   "metadata": {},
   "outputs": [
    {
     "ename": "AttributeError",
     "evalue": "type object 'DeltaTable' has no attribute 'create'",
     "output_type": "error",
     "traceback": [
      "\u001b[0;31m---------------------------------------------------------------------------\u001b[0m",
      "\u001b[0;31mAttributeError\u001b[0m                            Traceback (most recent call last)",
      "Input \u001b[0;32mIn [28]\u001b[0m, in \u001b[0;36m<module>\u001b[0;34m\u001b[0m\n\u001b[0;32m----> 1\u001b[0m deltaTable_train \u001b[38;5;241m=\u001b[39m \u001b[43mDeltaTable\u001b[49m\u001b[38;5;241;43m.\u001b[39;49m\u001b[43mcreate\u001b[49m(spark)\u001b[38;5;241m.\u001b[39mtableName(\u001b[38;5;124m\"\u001b[39m\u001b[38;5;124mtrain_FD001\u001b[39m\u001b[38;5;124m\"\u001b[39m)\u001b[38;5;241m.\u001b[39moption(\u001b[38;5;124m\"\u001b[39m\u001b[38;5;124minferSchema\u001b[39m\u001b[38;5;124m\"\u001b[39m,\u001b[38;5;28;01mTrue\u001b[39;00m)\u001b[38;5;241m.\u001b[39mexecute()\n\u001b[1;32m      2\u001b[0m deltaTable_test \u001b[38;5;241m=\u001b[39m DeltaTable\u001b[38;5;241m.\u001b[39mcreate(spark)\u001b[38;5;241m.\u001b[39mtableName(\u001b[38;5;124m\"\u001b[39m\u001b[38;5;124mtest_FD001\u001b[39m\u001b[38;5;124m\"\u001b[39m)\u001b[38;5;241m.\u001b[39mexecute()\n\u001b[1;32m      3\u001b[0m deltaTable_rul \u001b[38;5;241m=\u001b[39m DeltaTable\u001b[38;5;241m.\u001b[39mcreate(spark)\u001b[38;5;241m.\u001b[39mtableName(\u001b[38;5;124m\"\u001b[39m\u001b[38;5;124mRUL_FD001\u001b[39m\u001b[38;5;124m\"\u001b[39m)\u001b[38;5;241m.\u001b[39mexecute()\n",
      "\u001b[0;31mAttributeError\u001b[0m: type object 'DeltaTable' has no attribute 'create'"
     ]
    }
   ],
   "source": [
    "\n",
    "deltaTable_train = DeltaTable.create(spark).tableName(\"train_FD001\").option(\"inferSchema\",True).execute()\n",
    "deltaTable_test = DeltaTable.create(spark).tableName(\"test_FD001\").execute()\n",
    "deltaTable_rul = DeltaTable.create(spark).tableName(\"RUL_FD001\").execute()\n",
    "\"\"\"\n",
    "df = spark.read.format(\"csv\") \\\n",
    "  .option(\"inferSchema\", infer_schema) \\\n",
    "  .option(\"header\", first_row_is_header) \\\n",
    "  .option(\"sep\", delimiter) \\\n",
    "  .load(file_location)\n",
    "\"\"\"\n"
   ]
  }
 ],
 "metadata": {
  "interpreter": {
   "hash": "c04dc6afd1679eff59eafce540669010f1c3799b48e0ccc89415fde047d93acf"
  },
  "kernelspec": {
   "display_name": "Python 3.8.12 64-bit ('spark': conda)",
   "language": "python",
   "name": "python3"
  },
  "language_info": {
   "codemirror_mode": {
    "name": "ipython",
    "version": 3
   },
   "file_extension": ".py",
   "mimetype": "text/x-python",
   "name": "python",
   "nbconvert_exporter": "python",
   "pygments_lexer": "ipython3",
   "version": "3.8.12"
  },
  "orig_nbformat": 4
 },
 "nbformat": 4,
 "nbformat_minor": 2
}
